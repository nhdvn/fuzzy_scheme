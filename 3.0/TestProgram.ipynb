{
 "cells": [
  {
   "cell_type": "code",
   "execution_count": 2,
   "metadata": {},
   "outputs": [],
   "source": [
    "from CryptoSystem import VoiceCryptoSystem\n",
    "from TempExtractor import VoiceTemplate\n",
    "\n",
    "system = VoiceCryptoSystem(512)\n",
    "module = VoiceTemplate()"
   ]
  },
  {
   "cell_type": "code",
   "execution_count": null,
   "metadata": {},
   "outputs": [],
   "source": [
    "system.enroll_user(53, module.load_user_template(53, 5))"
   ]
  },
  {
   "cell_type": "code",
   "execution_count": 6,
   "metadata": {},
   "outputs": [],
   "source": [
    "system.verify_user(53, module.load_user_template(53, 3))"
   ]
  }
 ],
 "metadata": {
  "interpreter": {
   "hash": "b0376d44b73bb5a6705923606203815f319f02c5ff0554b736d5130c0570b195"
  },
  "kernelspec": {
   "display_name": "Python 3.10.4 ('Crypto')",
   "language": "python",
   "name": "python3"
  },
  "language_info": {
   "codemirror_mode": {
    "name": "ipython",
    "version": 3
   },
   "file_extension": ".py",
   "mimetype": "text/x-python",
   "name": "python",
   "nbconvert_exporter": "python",
   "pygments_lexer": "ipython3",
   "version": "3.10.4"
  },
  "orig_nbformat": 4
 },
 "nbformat": 4,
 "nbformat_minor": 2
}
