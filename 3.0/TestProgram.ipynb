{
 "cells": [
  {
   "cell_type": "code",
   "execution_count": null,
   "metadata": {},
   "outputs": [],
   "source": [
    "from CryptoSystem import VoiceCryptoSystem\n",
    "from TempExtractor import VoiceTemplateLoader, dataset\n",
    "\n",
    "data = dataset['timit_47_400']\n",
    "\n",
    "module = VoiceTemplateLoader(data)\n",
    "system = VoiceCryptoSystem(data)"
   ]
  },
  {
   "cell_type": "code",
   "execution_count": null,
   "metadata": {},
   "outputs": [],
   "source": [
    "module.u_list"
   ]
  },
  {
   "cell_type": "code",
   "execution_count": null,
   "metadata": {},
   "outputs": [],
   "source": [
    "for user in module.u_list:\n",
    "    test = module.load_user_data(user, 3)\n",
    "    index = module.reliable_index(test[:2])\n",
    "    bits1 = module.reliable_bits(test[:2], index)\n",
    "    bits2 = module.reliable_bits(test[2:], index)\n",
    "    dist = module.binary_distance(bits1, bits2)\n",
    "    if dist > 0.18:\n",
    "        print(dist)\n",
    "        print(bits1)\n",
    "        print(bits2)\n",
    "        break"
   ]
  },
  {
   "cell_type": "code",
   "execution_count": null,
   "metadata": {},
   "outputs": [],
   "source": [
    "print(user)\n",
    "ukey = system.enroll_user(user, test[:2])\n",
    "print(ukey)\n",
    "vkey = system.verify_user(user, test[2:])\n",
    "print(vkey)"
   ]
  }
 ],
 "metadata": {
  "kernelspec": {
   "display_name": "Python 3.8.9 64-bit",
   "language": "python",
   "name": "python3"
  },
  "language_info": {
   "codemirror_mode": {
    "name": "ipython",
    "version": 3
   },
   "file_extension": ".py",
   "mimetype": "text/x-python",
   "name": "python",
   "nbconvert_exporter": "python",
   "pygments_lexer": "ipython3",
   "version": "3.8.9"
  },
  "orig_nbformat": 4,
  "vscode": {
   "interpreter": {
    "hash": "31f2aee4e71d21fbe5cf8b01ff0e069b9275f58929596ceb00d14d90e3e16cd6"
   }
  }
 },
 "nbformat": 4,
 "nbformat_minor": 2
}
